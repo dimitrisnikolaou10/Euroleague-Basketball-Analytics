{
 "cells": [
  {
   "cell_type": "code",
   "execution_count": null,
   "metadata": {
    "collapsed": true
   },
   "outputs": [],
   "source": [
    "#count timeouts\n",
    "tos = pbp[pbp['desc']=='Time Out ']\n",
    "number = tos[tos['team']==home]['team'].count()\n",
    "tolist = tos[tos['team']==home]['team'].index.tolist()"
   ]
  },
  {
   "cell_type": "code",
   "execution_count": null,
   "metadata": {
    "collapsed": true
   },
   "outputs": [],
   "source": [
    "ac=0\n",
    "ah=0\n",
    "aa=0\n",
    "h=0\n",
    "a=0\n",
    "for x in tolist:\n",
    "    timer = 0\n",
    "    ac += 1\n",
    "    ah += h\n",
    "    aa += a\n",
    "    h=0\n",
    "    a=0\n",
    "    if ((pbp.ix[x,'quarter']==4) and (int(pbp.ix[x,'min']) < 2)):\n",
    "        ac = ac - 1\n",
    "    else:\n",
    "        while timer <= 120 and x < len(pbp['min']) - 1:\n",
    "            timer += pbp.ix[x,'timer']\n",
    "            if (timer > 120):\n",
    "                break\n",
    "            else:\n",
    "                h += pbp.ix[x,'hpts']\n",
    "                a += pbp.ix[x,'apts']\n",
    "                x += 1           \n",
    "print ah, aa, ac"
   ]
  },
  {
   "cell_type": "code",
   "execution_count": null,
   "metadata": {
    "collapsed": true
   },
   "outputs": [],
   "source": [
    "#repeat same for before time out\n",
    "bc=0\n",
    "bh=0\n",
    "ba=0\n",
    "h=0\n",
    "a=0\n",
    "for x in reversed(tolist):\n",
    "    t += timer\n",
    "    timer = 0\n",
    "    bc += 1\n",
    "    bh += h\n",
    "    ba += a\n",
    "    h=0\n",
    "    a=0\n",
    "    if ((pbp.ix[x,'quarter']==4) and (int(pbp.ix[x,'min']) < 2)):\n",
    "        bc = bc - 1\n",
    "    else:\n",
    "        while timer <= 120:\n",
    "            timer += pbp.ix[x,'timer']\n",
    "            if (timer > 120):\n",
    "                break\n",
    "            else:\n",
    "                h += pbp.ix[x,'hpts']\n",
    "                a += pbp.ix[x,'apts']\n",
    "                x -= 1           \n",
    "print bh, ba, bc"
   ]
  },
  {
   "cell_type": "code",
   "execution_count": null,
   "metadata": {
    "collapsed": true
   },
   "outputs": [],
   "source": [
    "coaches = ['sfairo', 'trink', 'itou', 'pera', 'obra', 'pasc','laso','saras']\n",
    "coach_count = [sfairo_count, trink_count, itou_count,pera_count,obra_count,pasc_count,laso_count, saras_count]\n",
    "coach_before = [round(sfairo_before,2), round(trink_before,2), round(itou_before,2),round(pera_before,2),round(obra_before,2),round(pasc_before,2),round(laso_before,2),round(saras_before,2)]\n",
    "coach_after = [round(sfairo_after,2), round(trink_after,2), round(itou_after,2),round(pera_after,2),round(obra_after,2),round(pasc_after,2),round(laso_after,2), round(saras_after,2)]"
   ]
  },
  {
   "cell_type": "code",
   "execution_count": null,
   "metadata": {
    "collapsed": true
   },
   "outputs": [],
   "source": [
    "import matplotlib.pyplot as plt\n",
    "import numpy as np\n",
    "import matplotlib.image as image"
   ]
  },
  {
   "cell_type": "code",
   "execution_count": null,
   "metadata": {
    "collapsed": true
   },
   "outputs": [],
   "source": [
    "plt.figure(figsize=(20,10))\n",
    "\n",
    "x = coaches\n",
    "n=np.arange(len(coaches))\n",
    "im1 = image.imread('sfairopoulos.png')\n",
    "plt.imshow(im1, aspect='auto', extent=(-0.35, 0.35, 10, 30), zorder=1)\n",
    "im2 = image.imread('trinch.png')\n",
    "plt.imshow(im2, aspect='auto', extent=(0.65, 1.35, 10, 30), zorder=1)\n",
    "im3 = image.imread('itou.png')\n",
    "plt.imshow(im3, aspect='auto', extent=(1.65, 2.35, 10, 30), zorder=1)\n",
    "im4 = image.imread('pera.png')\n",
    "plt.imshow(im4, aspect='auto', extent=(2.65, 3.35, 10, 30), zorder=1)\n",
    "im5 = image.imread('obra.png')\n",
    "plt.imshow(im5, aspect='auto', extent=(3.65, 4.35, 10, 30), zorder=1)\n",
    "im6 = image.imread('pascual.png')\n",
    "plt.imshow(im6, aspect='auto', extent=(4.65, 5.35, 10, 30), zorder=1)\n",
    "im7 = image.imread('lasso.png')\n",
    "plt.imshow(im7, aspect='auto', extent=(5.65, 6.35, 10, 30), zorder=1)\n",
    "im8 = image.imread('saras.png')\n",
    "plt.imshow(im8, aspect='auto', extent=(6.65, 7.35, 10, 30), zorder=1)\n",
    "\n",
    "colors = ('#ff0000','#ba0303', '#0019d8','#0014a9','#f3f100','#147500','#7d00c9','#4ba000')\n",
    "plt.bar(n, coach_count, color = colors, alpha = 0.65)\n",
    "plt.xticks(n, coaches)\n",
    "plt.yticks(np.arange(0, 110, 10))\n",
    "plt.ylim(0,100)\n",
    "plt.ylabel('number of time outs')\n",
    "plt.title('Number of Time Outs per coach')\n",
    "plt.show()"
   ]
  },
  {
   "cell_type": "code",
   "execution_count": null,
   "metadata": {
    "collapsed": true
   },
   "outputs": [],
   "source": [
    "plt.figure(figsize=(20,10))\n",
    "\n",
    "x = coaches\n",
    "n=np.arange(len(coaches))\n",
    "\n",
    "im1 = image.imread('sfairopoulos.png')\n",
    "plt.imshow(im1, aspect='auto', extent=(-0.35, 0.35, -1.25, -0.5), zorder=1)\n",
    "im2 = image.imread('trinch.png')\n",
    "plt.imshow(im2, aspect='auto', extent=(0.65, 1.35, -1.25, -0.5), zorder=1)\n",
    "im3 = image.imread('itou.png')\n",
    "plt.imshow(im3, aspect='auto', extent=(1.65, 2.35, -1.25, -0.5), zorder=1)\n",
    "im4 = image.imread('pera.png')\n",
    "plt.imshow(im4, aspect='auto', extent=(2.65, 3.35, -1.25, -0.5), zorder=1)\n",
    "im5 = image.imread('obra.png')\n",
    "plt.imshow(im5, aspect='auto', extent=(3.65, 4.35, -1.25, -0.5), zorder=1)\n",
    "im6 = image.imread('pascual.png')\n",
    "plt.imshow(im6, aspect='auto', extent=(4.65, 5.35, -1.25, -0.5), zorder=1)\n",
    "im7 = image.imread('lasso.png')\n",
    "plt.imshow(im7, aspect='auto', extent=(5.65, 6.35, -1.25, -0.5), zorder=1)\n",
    "im8 = image.imread('saras.png')\n",
    "plt.imshow(im8, aspect='auto', extent=(6.65, 7.35, -1.25, -0.5), zorder=1)\n",
    "\n",
    "colors = ('#ff0000','#ba0303', '#0019d8','#0014a9','#f3f100','#147500','#7d00c9','#4ba000')\n",
    "plt.bar(n, coach_before, color = colors, alpha = 0.65)\n",
    "plt.xticks(n, coaches)\n",
    "\n",
    "plt.ylabel('+/-')\n",
    "plt.title('+/- 120s before timeout per coach')\n",
    "plt.show()"
   ]
  },
  {
   "cell_type": "code",
   "execution_count": null,
   "metadata": {
    "collapsed": true
   },
   "outputs": [],
   "source": [
    "plt.figure(figsize=(20,10))\n",
    "\n",
    "x = coaches\n",
    "n=np.arange(len(coaches))\n",
    "\n",
    "\n",
    "colors = ('#ff0000','#ba0303', '#0019d8','#0014a9','#f3f100','#147500','#7d00c9','#4ba000')\n",
    "plt.bar(n, coach_after, color = colors, alpha = 0.65)\n",
    "plt.xticks(n, coaches)\n",
    "\n",
    "plt.ylabel('+/-')\n",
    "plt.title('+/- 120s after timeout per coach')\n",
    "plt.show()"
   ]
  },
  {
   "cell_type": "code",
   "execution_count": null,
   "metadata": {
    "collapsed": true
   },
   "outputs": [],
   "source": []
  }
 ],
 "metadata": {
  "kernelspec": {
   "display_name": "Python 2",
   "language": "python",
   "name": "python2"
  },
  "language_info": {
   "codemirror_mode": {
    "name": "ipython",
    "version": 2
   },
   "file_extension": ".py",
   "mimetype": "text/x-python",
   "name": "python",
   "nbconvert_exporter": "python",
   "pygments_lexer": "ipython2",
   "version": "2.7.13"
  }
 },
 "nbformat": 4,
 "nbformat_minor": 2
}
